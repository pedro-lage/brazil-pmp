{
 "cells": [
  {
   "cell_type": "code",
   "execution_count": 25,
   "metadata": {},
   "outputs": [],
   "source": [
    "import pandas as pd\n",
    "from datetime import datetime\n",
    "import numpy as np\n",
    "from copy import deepcopy\n",
    "import matplotlib.pyplot as plt"
   ]
  },
  {
   "cell_type": "code",
   "execution_count": 19,
   "metadata": {},
   "outputs": [],
   "source": [
    "stationPaths = [\"227\",\"228\",\"242\",\"251\",\"252\"]\n",
    "stationPaths = [path + \".csv\" for path in stationPaths]"
   ]
  },
  {
   "cell_type": "code",
   "execution_count": 20,
   "metadata": {},
   "outputs": [],
   "source": [
    "temperaturass = []\n",
    "precipitacoess = []\n",
    "\n",
    "for path in stationPaths:\n",
    "    df = pd.read_csv(path)\n",
    "    df[\"Ano\"] = [datetime.strptime(date, '%Y-%m-%d').year for date in df[\"Data Medicao\"]]\n",
    "\n",
    "    temperaturas = []\n",
    "    precipitacoes = []\n",
    "\n",
    "    anos = list(set(df[\"Ano\"]))\n",
    "    for ano in anos:\n",
    "        df_anos = df[df[\"Ano\"] == ano]\n",
    "        if(len(df_anos)) > 300:\n",
    "            if(np.count_nonzero(~np.isnan(df_anos[\"PRECIPITACAO TOTAL, DIARIO(mm)\"]))>300):\n",
    "                precipitacoes.append(np.nansum(df_anos[\"PRECIPITACAO TOTAL, DIARIO(mm)\"]))\n",
    "            if(np.count_nonzero(~np.isnan(df_anos[\"TEMPERATURA MEDIA COMPENSADA, DIARIA(°C)\"]))>300):\n",
    "                temperaturas.append(np.nanmean(df_anos[\"TEMPERATURA MEDIA COMPENSADA, DIARIA(°C)\"]))\n",
    "\n",
    "    temperaturass.append(deepcopy(temperaturas))\n",
    "    precipitacoess.append(deepcopy(precipitacoes))\n",
    "\n",
    "\n"
   ]
  },
  {
   "cell_type": "code",
   "execution_count": 24,
   "metadata": {},
   "outputs": [
    {
     "data": {
      "text/plain": [
       "[690.8,\n",
       " 1330.1,\n",
       " 1005.5,\n",
       " 1913.0,\n",
       " 1486.6,\n",
       " 1657.0,\n",
       " 1026.9,\n",
       " 1815.7000000000003,\n",
       " 1522.8000000000002,\n",
       " 1572.0,\n",
       " 1605.6999999999998,\n",
       " 2087.0,\n",
       " 1367.3000000000002,\n",
       " 1680.2999999999997,\n",
       " 1456.6,\n",
       " 1853.4,\n",
       " 2240.3,\n",
       " 1692.4,\n",
       " 1820.8000000000002,\n",
       " 1596.3000000000002,\n",
       " 1899.6999999999998,\n",
       " 1349.7,\n",
       " 2274.6,\n",
       " 1444.5,\n",
       " 1607.7000000000003,\n",
       " 1758.8000000000002,\n",
       " 1623.5000000000002,\n",
       " 1639.4,\n",
       " 1167.3,\n",
       " 1700.9,\n",
       " 1169.0,\n",
       " 1541.1999999999998,\n",
       " 1502.6999999999998,\n",
       " 1701.1999999999998,\n",
       " 1592.6999999999998,\n",
       " 1667.5,\n",
       " 1961.5000000000002,\n",
       " 2224.5,\n",
       " 1851.3999999999996,\n",
       " 877.5,\n",
       " 1448.1,\n",
       " 1750.4,\n",
       " 1446.7000000000003,\n",
       " 1983.8,\n",
       " 1335.8000000000002,\n",
       " 1714.0,\n",
       " 1633.7999999999997,\n",
       " 1270.8,\n",
       " 1278.6,\n",
       " 1148.8,\n",
       " 1756.3000000000002,\n",
       " 1206.6000000000001,\n",
       " 2026.7,\n",
       " 1533.1,\n",
       " 1327.1]"
      ]
     },
     "execution_count": 24,
     "metadata": {},
     "output_type": "execute_result"
    }
   ],
   "source": [
    "for precipitacoes, temperaturas in zip(precipitacoess, temperaturass):\n",
    "    precipitacoes = precipitacoes[1:-1]\n",
    "    plt.plot(precipitacoes)\n",
    "    plt.show()\n",
    "    \n",
    "    temperaturas = temperaturas[1:-1]\n",
    "    plt.plot(temperaturas)\n",
    "    plt.show()\n",
    "    "
   ]
  }
 ],
 "metadata": {
  "kernelspec": {
   "display_name": "base",
   "language": "python",
   "name": "python3"
  },
  "language_info": {
   "codemirror_mode": {
    "name": "ipython",
    "version": 3
   },
   "file_extension": ".py",
   "mimetype": "text/x-python",
   "name": "python",
   "nbconvert_exporter": "python",
   "pygments_lexer": "ipython3",
   "version": "3.9.13"
  },
  "orig_nbformat": 4
 },
 "nbformat": 4,
 "nbformat_minor": 2
}
